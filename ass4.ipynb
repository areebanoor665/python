{
  "nbformat": 4,
  "nbformat_minor": 0,
  "metadata": {
    "colab": {
      "private_outputs": true,
      "provenance": [],
      "authorship_tag": "ABX9TyPHC5SzXtL8QBdCzgYupszS",
      "include_colab_link": true
    },
    "kernelspec": {
      "name": "python3",
      "display_name": "Python 3"
    },
    "language_info": {
      "name": "python"
    }
  },
  "cells": [
    {
      "cell_type": "markdown",
      "metadata": {
        "id": "view-in-github",
        "colab_type": "text"
      },
      "source": [
        "<a href=\"https://colab.research.google.com/github/areebanoor665/python/blob/main/ass4.ipynb\" target=\"_parent\"><img src=\"https://colab.research.google.com/assets/colab-badge.svg\" alt=\"Open In Colab\"/></a>"
      ]
    },
    {
      "cell_type": "code",
      "execution_count": null,
      "metadata": {
        "id": "a52kU9UGrgzv"
      },
      "outputs": [],
      "source": [
        "import pandas as pd\n",
        "\n",
        "# Load the Titanic dataset\n",
        "url = 'https://raw.githubusercontent.com/datasciencedojo/datasets/master/titanic.csv'\n",
        "df = pd.read_csv(url)\n",
        "\n",
        "# Display the first few rows of the dataset\n",
        "df.head()\n"
      ]
    },
    {
      "cell_type": "code",
      "source": [
        "\n",
        "# Display the structure of the dataset\n",
        "df.info()\n",
        "\n",
        "# Display the statistical summary of the dataset\n",
        "df.describe()\n",
        "\n",
        "# Display the column names\n",
        "df.columns\n"
      ],
      "metadata": {
        "id": "tcfYtkbiuTYE"
      },
      "execution_count": null,
      "outputs": []
    },
    {
      "cell_type": "code",
      "source": [
        "# Check for missing values\n",
        "df.isnull().sum()\n",
        "\n",
        "# Handle missing values: fill 'Age' with the median age, drop rows with missing 'Embarked' and 'Cabin'\n",
        "df['Age'].fillna(df['Age'].median(), inplace=True)\n",
        "df.dropna(subset=['Embarked'], inplace=True)\n",
        "\n",
        "# Drop duplicates\n",
        "df.drop_duplicates(inplace=True)\n",
        "\n",
        "# Display the cleaned dataset summary\n",
        "df.info()\n"
      ],
      "metadata": {
        "id": "9SHcXAStuauD"
      },
      "execution_count": null,
      "outputs": []
    },
    {
      "cell_type": "code",
      "source": [
        "import matplotlib.pyplot as plt\n",
        "import seaborn as sns\n",
        "\n",
        "# Set the style for the plots\n",
        "sns.set(style=\"whitegrid\")\n",
        "\n",
        "# 1. Bar plot of survival count\n",
        "plt.figure(figsize=(8, 6))\n",
        "sns.countplot(x='Survived', data=df)\n",
        "plt.title('Survival Count')\n",
        "plt.xlabel('Survived')\n",
        "plt.ylabel('Count')\n",
        "plt.show()\n"
      ],
      "metadata": {
        "id": "d1_ug5VIuebu"
      },
      "execution_count": null,
      "outputs": []
    },
    {
      "cell_type": "code",
      "source": [
        "# 2. Age distribution of passengers\n",
        "plt.figure(figsize=(10, 6))\n",
        "sns.histplot(df['Age'], kde=True, bins=30)\n",
        "plt.title('Age Distribution of Passengers')\n",
        "plt.xlabel('Age')\n",
        "plt.ylabel('Count')\n",
        "plt.show()\n"
      ],
      "metadata": {
        "id": "pfOfVB8gupWx"
      },
      "execution_count": null,
      "outputs": []
    },
    {
      "cell_type": "code",
      "source": [
        "# 3. Survival rate by gender\n",
        "plt.figure(figsize=(8, 6))\n",
        "sns.countplot(x='Survived', hue='Sex', data=df)\n",
        "plt.title('Survival Rate by Gender')\n",
        "plt.xlabel('Survived')\n",
        "plt.ylabel('Count')\n",
        "plt.show()\n"
      ],
      "metadata": {
        "id": "1eJPIJL3utf_"
      },
      "execution_count": null,
      "outputs": []
    },
    {
      "cell_type": "code",
      "source": [
        "# 4. Survival rate by passenger class\n",
        "plt.figure(figsize=(8, 6))\n",
        "sns.countplot(x='Survived', hue='Pclass', data=df)\n",
        "plt.title('Survival Rate by Passenger Class')\n",
        "plt.xlabel('Survived')\n",
        "plt.ylabel('Count')\n",
        "plt.show()\n"
      ],
      "metadata": {
        "id": "aOu_2WqYux8I"
      },
      "execution_count": null,
      "outputs": []
    },
    {
      "cell_type": "code",
      "source": [
        "# 5. Correlation heatmap\n",
        "plt.figure(figsize=(12, 8))\n",
        "sns.heatmap(df.corr(), annot=True, cmap='coolwarm', fmt=\".2f\", linewidths=.5)\n",
        "plt.title('Correlation Heatmap')\n",
        "plt.show()\n"
      ],
      "metadata": {
        "id": "ST-4Opz5waq1"
      },
      "execution_count": null,
      "outputs": []
    }
  ]
}